{
 "cells": [
  {
   "cell_type": "markdown",
   "id": "be0f410e-784e-4ede-9595-f212a3be4e0c",
   "metadata": {},
   "source": [
    "# BBC News web scraping"
   ]
  },
  {
   "cell_type": "code",
   "execution_count": null,
   "id": "c8e409b8-36cc-407a-9fea-e72c691f8923",
   "metadata": {},
   "outputs": [],
   "source": [
    "# Required Libraries\n",
    "from bs4 import BeautifulSoup\n",
    "import requests\n",
    "import pandas as pd\n",
    "import numpy as np\n",
    "import time"
   ]
  },
  {
   "cell_type": "code",
   "execution_count": null,
   "id": "f2150bda-7a8b-4bd1-9afa-5eb378773300",
   "metadata": {},
   "outputs": [],
   "source": [
    "# News URL (Example: BBC Technology)\n",
    "URL = \"https://www.bbc.com/news/technology\"\n",
    "\n",
    "HEADERS = {\n",
    "    \"User-Agent\": \"Mozilla/5.0 (Windows NT 10.0; Win64; x64) AppleWebKit/537.36 (KHTML, like Gecko) Chrome/139.0.0.0 Safari/537.36\",\n",
    "    \"Accept-Language\": \"en-US,en;q=0.5\"\n",
    "}\n",
    "\n",
    "# Send Request\n",
    "webpage = requests.get(URL, headers=HEADERS)\n",
    "print(webpage)  # <Response [200]> means request successful\n",
    "\n",
    "# Parse HTML\n",
    "soup = BeautifulSoup(webpage.content, \"html.parser\")\n",
    "\n",
    "# Empty lists\n",
    "titles = []\n",
    "links = []\n",
    "summaries = []\n",
    "sentiments = []\n",
    "\n",
    "# Collect all news articles (BBC uses <a> with gs-c-promo-heading class)\n",
    "for article in soup.find_all(\"a\", {\"class\": \"gs-c-promo-heading\"}):\n",
    "    title = article.get_text().strip()\n",
    "    link = \"https://www.bbc.com\" + article.get(\"href\")\n",
    "\n",
    "    titles.append(title)\n",
    "    links.append(link)\n",
    "\n",
    "    # Fetch individual article page for summary\n",
    "    article_page = requests.get(link, headers=HEADERS)\n",
    "    article_soup = BeautifulSoup(article_page.content, \"html.parser\")\n",
    "\n",
    "    # Find first paragraph of article\n",
    "    para = article_soup.find(\"p\")\n",
    "    if para:\n",
    "        summary = para.get_text().strip()\n",
    "    else:\n",
    "        summary = \"N/A\"\n",
    "\n",
    "    summaries.append(summary)\n",
    "\n",
    "    # Sentiment Analysis (using TextBlob)\n",
    "    sentiment = TextBlob(summary).sentiment.polarity\n",
    "    if sentiment > 0:\n",
    "        sentiments.append(\"Positive\")\n",
    "    elif sentiment < 0:\n",
    "        sentiments.append(\"Negative\")\n",
    "    else:\n",
    "        sentiments.append(\"Neutral\")\n",
    "\n"
   ]
  },
  {
   "cell_type": "code",
   "execution_count": null,
   "id": "4192b82f-feb4-4642-8548-5e76ab5a48cb",
   "metadata": {},
   "outputs": [],
   "source": [
    "# ✅ Store in DataFrame\n",
    "df = pd.DataFrame({\n",
    "    \"Title\": titles,\n",
    "    \"Summary\": summaries,\n",
    "    \"Link\": links,\n",
    "    \"Sentiment\": sentiments\n",
    "})\n",
    "\n",
    "# Show first few records\n",
    "print(df.head())"
   ]
  },
  {
   "cell_type": "code",
   "execution_count": null,
   "id": "c0aa7d03-56b5-4e20-8eb3-fd421a974bfb",
   "metadata": {},
   "outputs": [],
   "source": [
    "# Save to CSV\n",
    "df.to_csv(\"bbc_news_sentiment.csv\", index=False)\n",
    "print(\"News data saved to bbc_news_sentiment.csv\")"
   ]
  }
 ],
 "metadata": {
  "kernelspec": {
   "display_name": "Python 3 (ipykernel)",
   "language": "python",
   "name": "python3"
  },
  "language_info": {
   "codemirror_mode": {
    "name": "ipython",
    "version": 3
   },
   "file_extension": ".py",
   "mimetype": "text/x-python",
   "name": "python",
   "nbconvert_exporter": "python",
   "pygments_lexer": "ipython3",
   "version": "3.13.2"
  }
 },
 "nbformat": 4,
 "nbformat_minor": 5
}
