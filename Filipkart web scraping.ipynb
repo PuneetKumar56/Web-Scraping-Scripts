{
 "cells": [
  {
   "cell_type": "markdown",
   "id": "f5f54870-5c1f-4d05-a2d7-cc133b252c80",
   "metadata": {},
   "source": [
    "# Filipkart web scraping"
   ]
  },
  {
   "cell_type": "code",
   "execution_count": 10,
   "id": "4b58c7c1-3cd5-4077-8728-441d2b836a12",
   "metadata": {},
   "outputs": [],
   "source": [
    "# Required Libraries\n",
    "from bs4 import BeautifulSoup\n",
    "import requests\n",
    "import pandas as pd\n",
    "import numpy as np\n",
    "import time"
   ]
  },
  {
   "cell_type": "code",
   "execution_count": null,
   "id": "f0ae2568-e0fd-4466-b502-bbe22c97f63f",
   "metadata": {},
   "outputs": [],
   "source": [
    "# URL of Flipkart search results (example: mobiles)\n",
    "URL = \"https://www.flipkart.in/search?q=phones\"\n",
    "# Headers for request (to mimic a real browser)\n",
    "HEADERS = ({'User-Agent':'Mozilla/5.0 (Windows NT 10.0; Win64; x64) AppleWebKit/537.36 (KHTML, like Gecko) Chrome/139.0.0.0 Safari/537.36',\n",
    "           'Accept-Language':'en-US, en; q=0.5'})\n",
    "# Send request\n",
    "webpage = requests.get(URL, headers=HEADERS)\n",
    "print(webpage)  # If <Response [200]> request is successful\n",
    "\n",
    "# Parse the HTML\n",
    "soup = BeautifulSoup(webpage.content, \"html.parser\")\n",
    "\n",
    "# ✅ Each product on Flipkart is inside <div> with class \"_1AtVbE\"\n",
    "# We find product boxes that contain details\n",
    "products = soup.find_all(\"div\", {\"class\": \"_1AtVbE\"})\n",
    "\n",
    "# Create empty lists for storing data\n",
    "product_names = []\n",
    "product_prices = []\n",
    "product_ratings = []\n",
    "product_links = []\n",
    "\n",
    "# Loop through products and extract details\n",
    "for product in products:\n",
    "    # Product name\n",
    "    name = product.find(\"div\", {\"class\": \"_4rR01T\"})\n",
    "    if name:\n",
    "        product_names.append(name.get_text().strip())\n",
    "    else:\n",
    "        continue  # Skip if product name not found\n",
    "\n",
    "    # Product price\n",
    "    price = product.find(\"div\", {\"class\": \"_30jeq3 _1_WHN1\"})\n",
    "    if price:\n",
    "        product_prices.append(price.get_text().strip())\n",
    "    else:\n",
    "        product_prices.append(\"N/A\")\n",
    "\n",
    "    # Product rating\n",
    "    rating = product.find(\"div\", {\"class\": \"_3LWZlK\"})\n",
    "    if rating:\n",
    "        product_ratings.append(rating.get_text().strip())\n",
    "    else:\n",
    "        product_ratings.append(\"N/A\")\n",
    "\n",
    "    # Product link\n",
    "    link = product.find(\"a\", {\"class\": \"_1fQZEK\"})\n",
    "    if link:\n",
    "        product_links.append(\"https://www.flipkart.com\" + link.get(\"href\"))\n",
    "    else:\n",
    "        product_links.append(\"N/A\")"
   ]
  },
  {
   "cell_type": "code",
   "execution_count": null,
   "id": "f1d92f3a-cf0c-47b0-a443-732c6ca523bb",
   "metadata": {},
   "outputs": [],
   "source": [
    "# ✅ Store in DataFrame\n",
    "df = pd.DataFrame({\n",
    "    \"Product Name\": product_names,\n",
    "    \"Price\": product_prices,\n",
    "    \"Rating\": product_ratings,\n",
    "    \"Link\": product_links\n",
    "})"
   ]
  },
  {
   "cell_type": "code",
   "execution_count": null,
   "id": "6209aa1e-f773-4e6c-8d8a-82a00392fc7d",
   "metadata": {},
   "outputs": [],
   "source": [
    "# Show scraped data\n",
    "print(df.head())"
   ]
  },
  {
   "cell_type": "code",
   "execution_count": null,
   "id": "12e261b7-07f6-4745-81e6-bdd6f595ac4c",
   "metadata": {},
   "outputs": [],
   "source": [
    "# Save to CSV\n",
    "df.to_csv(\"flipkart_mobiles.csv\", index=False)\n",
    "print(\"Data saved to flipkart_mobiles.csv\")"
   ]
  }
 ],
 "metadata": {
  "kernelspec": {
   "display_name": "Python 3 (ipykernel)",
   "language": "python",
   "name": "python3"
  },
  "language_info": {
   "codemirror_mode": {
    "name": "ipython",
    "version": 3
   },
   "file_extension": ".py",
   "mimetype": "text/x-python",
   "name": "python",
   "nbconvert_exporter": "python",
   "pygments_lexer": "ipython3",
   "version": "3.13.2"
  }
 },
 "nbformat": 4,
 "nbformat_minor": 5
}
