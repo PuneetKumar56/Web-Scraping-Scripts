{
 "cells": [
  {
   "cell_type": "markdown",
   "id": "a690d077-26ef-49a6-b8c7-eed52855b51c",
   "metadata": {},
   "source": [
    "# Indeed web scraping"
   ]
  },
  {
   "cell_type": "code",
   "execution_count": null,
   "id": "5372b550-61d9-41be-9a67-d88ada53cbcf",
   "metadata": {},
   "outputs": [],
   "source": [
    "# Required Libraries\n",
    "from bs4 import BeautifulSoup\n",
    "import requests\n",
    "import pandas as pd\n",
    "import numpy as np\n",
    "import time"
   ]
  },
  {
   "cell_type": "code",
   "execution_count": null,
   "id": "28a13b67-9845-49aa-a069-cfa34c8dc522",
   "metadata": {},
   "outputs": [],
   "source": [
    "# Base URL (searching for \"Data Analyst\" jobs in India)\n",
    "URL = \"https://www.indeed.com/jobs?q=data+analyst&l=India\"\n",
    "\n",
    "HEADERS = {\n",
    "    \"User-Agent\": \"Mozilla/5.0 (Windows NT 10.0; Win64; x64) AppleWebKit/537.36 (KHTML, like Gecko) Chrome/139.0.0.0 Safari/537.36\",\n",
    "    \"Accept-Language\": \"en-US,en;q=0.5\"\n",
    "}\n",
    "\n",
    "# Send request\n",
    "webpage = requests.get(URL, headers=HEADERS)\n",
    "print(webpage)  # <Response [200]> means successful"
   ]
  },
  {
   "cell_type": "code",
   "execution_count": null,
   "id": "97c14338-b176-484a-80fd-7aedb6bb2212",
   "metadata": {},
   "outputs": [],
   "source": [
    "# Parse the HTML\n",
    "soup = BeautifulSoup(webpage.content, \"html.parser\")\n",
    "\n",
    "# Empty lists to store job details\n",
    "job_titles = []\n",
    "company_names = []\n",
    "locations = []\n",
    "salaries = []\n",
    "summaries = []\n",
    "\n",
    "# Loop through each job card\n",
    "for job_card in soup.find_all(\"div\", {\"class\": \"job_seen_beacon\"}):\n",
    "    \n",
    "    # Job Title\n",
    "    title = job_card.find(\"h2\", {\"class\": \"jobTitle\"})\n",
    "    job_titles.append(title.get_text().strip() if title else \"N/A\")\n",
    "    \n",
    "    # Company\n",
    "    company = job_card.find(\"span\", {\"class\": \"companyName\"})\n",
    "    company_names.append(company.get_text().strip() if company else \"N/A\")\n",
    "    \n",
    "    # Location\n",
    "    location = job_card.find(\"div\", {\"class\": \"companyLocation\"})\n",
    "    locations.append(location.get_text().strip() if location else \"N/A\")\n",
    "    \n",
    "    # Salary (optional, not always present)\n",
    "    salary = job_card.find(\"div\", {\"class\": \"salary-snippet\"})\n",
    "    salaries.append(salary.get_text().strip() if salary else \"N/A\")\n",
    "    \n",
    "    # Job Summary (short description)\n",
    "    summary = job_card.find(\"div\", {\"class\": \"job-snippet\"})\n",
    "    summaries.append(summary.get_text().strip() if summary else \"N/A\")\n",
    "\n",
    "# ✅ Convert to DataFrame\n",
    "df = pd.DataFrame({\n",
    "    \"Job Title\": job_titles,\n",
    "    \"Company\": company_names,\n",
    "    \"Location\": locations,\n",
    "    \"Salary\": salaries,\n",
    "    \"Summary\": summaries\n",
    "})\n",
    "\n",
    "# Show first 5 records\n",
    "print(df.head())\n",
    "\n"
   ]
  },
  {
   "cell_type": "code",
   "execution_count": null,
   "id": "130d0935-602f-4889-8548-5fdbc2284494",
   "metadata": {},
   "outputs": [],
   "source": [
    "# Save data\n",
    "df.to_csv(\"indeed_jobs.csv\", index=False)\n",
    "print(\"Data saved to indeed_jobs.csv\")\n"
   ]
  }
 ],
 "metadata": {
  "kernelspec": {
   "display_name": "Python 3 (ipykernel)",
   "language": "python",
   "name": "python3"
  },
  "language_info": {
   "codemirror_mode": {
    "name": "ipython",
    "version": 3
   },
   "file_extension": ".py",
   "mimetype": "text/x-python",
   "name": "python",
   "nbconvert_exporter": "python",
   "pygments_lexer": "ipython3",
   "version": "3.13.2"
  }
 },
 "nbformat": 4,
 "nbformat_minor": 5
}
