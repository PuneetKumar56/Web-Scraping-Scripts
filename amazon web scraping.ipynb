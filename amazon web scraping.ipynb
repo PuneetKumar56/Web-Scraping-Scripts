{
 "cells": [
  {
   "cell_type": "markdown",
   "id": "71243128-b6a8-442c-bffb-4142df8be1af",
   "metadata": {},
   "source": [
    "# Amazon Data Scraping"
   ]
  },
  {
   "cell_type": "code",
   "execution_count": 1,
   "id": "a0894383-c883-4fef-bed4-9ff88c350562",
   "metadata": {},
   "outputs": [],
   "source": [
    "# Required Libraries\n",
    "from bs4 import BeautifulSoup # for parse proper html content\n",
    "import requests # for http request\n",
    "import pandas as pd\n",
    "import numpy as np\n",
    "import time"
   ]
  },
  {
   "cell_type": "code",
   "execution_count": 2,
   "id": "d00ae685-3aa3-4f8e-8b2e-0d2168d92572",
   "metadata": {},
   "outputs": [],
   "source": [
    "URL = 'https://www.amazon.com/s?k=phone&crid=215URG0I51MRS&sprefix=pho%2Caps%2C4912&ref=nb_sb_noss_2' # url for any product like Phones"
   ]
  },
  {
   "cell_type": "code",
   "execution_count": 3,
   "id": "4c820cf0-4135-4bf7-a098-e648de5cbfe6",
   "metadata": {},
   "outputs": [],
   "source": [
    "# Headers for request\n",
    "HEADERS = ({'User-Agent':'Mozilla/5.0 (Windows NT 10.0; Win64; x64) AppleWebKit/537.36 (KHTML, like Gecko) Chrome/139.0.0.0 Safari/537.36',\n",
    "           'Accept-Language':'en-US, en;q=0.5'}) # take this from -> whatismybrowser, language = en-US, en;q=0.5"
   ]
  },
  {
   "cell_type": "code",
   "execution_count": 4,
   "id": "fa9fa750-2bf0-40df-8e0f-212e603953a8",
   "metadata": {},
   "outputs": [],
   "source": [
    "webpage = requests.get(URL, headers = HEADERS) # http request on browser"
   ]
  },
  {
   "cell_type": "code",
   "execution_count": 5,
   "id": "a904a948-2a12-45f5-8234-871ba5daedeb",
   "metadata": {},
   "outputs": [
    {
     "data": {
      "text/plain": [
       "bytes"
      ]
     },
     "execution_count": 5,
     "metadata": {},
     "output_type": "execute_result"
    }
   ],
   "source": [
    "webpage # if find <Response [200]> means your http request is successful\n",
    "type(webpage.content) # webpage.content  gives whole code of webpage in bytes type"
   ]
  },
  {
   "cell_type": "code",
   "execution_count": null,
   "id": "38bec67b-b10b-4362-9fe4-caa700395c11",
   "metadata": {},
   "outputs": [],
   "source": [
    "# Soup object containing all data\n",
    "soup = BeautifulSoup(webpage.content, 'html.parser') # parser bytes type to html type\n",
    "print(soup) #  give whole proper html code of webpage"
   ]
  },
  {
   "cell_type": "code",
   "execution_count": null,
   "id": "058711e4-d8cf-4b61-97f6-2ce660ecc0c8",
   "metadata": {
    "scrolled": true
   },
   "outputs": [],
   "source": [
    "# now from whole html code of webpafe take only anchor (<a> </a>) tag where \n",
    "# attribute is class = a-link-normal s-line-clamp-2 s-link-style a-text-normal\n",
    "links = soup.find_all(\"a\", attrs = {'class':'a-link-normal s-line-clamp-2 s-link-style a-text-normal'})\n",
    "print(links)  # it gives all anchor tags where class is a-link-normal s-line-clamp-2 s-link-style a-text-normal in the form of list\n",
    "# these anchor tags contains link, product details"
   ]
  },
  {
   "cell_type": "code",
   "execution_count": 19,
   "id": "6b8ab3b1-5ebd-4d52-8321-cbdedec718fd",
   "metadata": {},
   "outputs": [
    {
     "name": "stdout",
     "output_type": "stream",
     "text": [
      "<a class=\"a-link-normal s-line-clamp-2 s-link-style a-text-normal\" href=\"/Moto-Unlocked-128GB-Camera-Green/dp/B0CWHXVLXG/ref=sr_1_2?crid=215URG0I51MRS&amp;dib=eyJ2IjoiMSJ9.TrY13i8erNPCMJoPArfIqb3yjqGCEpHPwdhbDQLs_XtD6P5sx3OUNzsAcYeJ1JoHIythWPBsAlWJ8vJ2q5mA5Lpxp7n9a___np0wxREurvCUoOOBvTK9L81QMGgpfNwyJ7TmGpTL-zqTssBa-VUN79hoAhEq9opMp2Sr6jdBnkUFkITEU_TLjgP31Nc9ItlgnvTjGfLBsWNG9i2lpizJQ98YJ1_edrCCgZL5zDzecCM.VWP0hzEOAMZcz-nZTYt2qKM76vcHYKT9OB_3kXgvleU&amp;dib_tag=se&amp;keywords=phone&amp;qid=1756651116&amp;sprefix=pho%2Caps%2C4912&amp;sr=8-2\"><h2 aria-label=\"Motorola Moto G 5G | 2024 | Unlocked | Made for US 4/128GB | 50MP Camera | Sage Green\" class=\"a-size-medium a-spacing-none a-color-base a-text-normal\"><span>Motorola Moto G 5G | 2024 | Unlocked | Made for US 4/128GB | 50MP Camera | Sage Green</span></h2></a>\n"
     ]
    }
   ],
   "source": [
    "print(links[1]) # it print onlt first anchor tag from list of anchor tags"
   ]
  },
  {
   "cell_type": "code",
   "execution_count": 20,
   "id": "9e9f7f3e-6970-42ec-a393-978274164c84",
   "metadata": {},
   "outputs": [],
   "source": [
    "link = links[1].get('href') # it gives only link from first anchor tag that consists under href"
   ]
  },
  {
   "cell_type": "code",
   "execution_count": 21,
   "id": "84490306-c31b-4379-a5ba-d9766c6cf70e",
   "metadata": {},
   "outputs": [],
   "source": [
    "product_list = \"https://amazon.com\"+link # add https://amazon.com before the link to check this link provides the webpage of that product"
   ]
  },
  {
   "cell_type": "code",
   "execution_count": 22,
   "id": "8b663053-0a77-447c-a7f0-f419f751266d",
   "metadata": {},
   "outputs": [
    {
     "data": {
      "text/plain": [
       "'https://amazon.com/Moto-Unlocked-128GB-Camera-Green/dp/B0CWHXVLXG/ref=sr_1_2?crid=215URG0I51MRS&dib=eyJ2IjoiMSJ9.TrY13i8erNPCMJoPArfIqb3yjqGCEpHPwdhbDQLs_XtD6P5sx3OUNzsAcYeJ1JoHIythWPBsAlWJ8vJ2q5mA5Lpxp7n9a___np0wxREurvCUoOOBvTK9L81QMGgpfNwyJ7TmGpTL-zqTssBa-VUN79hoAhEq9opMp2Sr6jdBnkUFkITEU_TLjgP31Nc9ItlgnvTjGfLBsWNG9i2lpizJQ98YJ1_edrCCgZL5zDzecCM.VWP0hzEOAMZcz-nZTYt2qKM76vcHYKT9OB_3kXgvleU&dib_tag=se&keywords=phone&qid=1756651116&sprefix=pho%2Caps%2C4912&sr=8-2'"
      ]
     },
     "execution_count": 22,
     "metadata": {},
     "output_type": "execute_result"
    }
   ],
   "source": [
    "product_list # give link before adding https://amazon.com"
   ]
  },
  {
   "cell_type": "code",
   "execution_count": 23,
   "id": "9a4fc806-a096-4def-9745-fa3231a115b3",
   "metadata": {},
   "outputs": [],
   "source": [
    "new_webpage = requests.get(product_list, headers = HEADERS) # request for only 1 product"
   ]
  },
  {
   "cell_type": "code",
   "execution_count": 24,
   "id": "5637894f-d2b7-4558-b4d1-9b91a38142d7",
   "metadata": {
    "scrolled": true
   },
   "outputs": [
    {
     "name": "stdout",
     "output_type": "stream",
     "text": [
      "<Response [200]>\n"
     ]
    }
   ],
   "source": [
    "print(new_webpage) # <Response [200]> means http request successful"
   ]
  },
  {
   "cell_type": "code",
   "execution_count": 26,
   "id": "13ddc081-3fdd-4ef9-9b49-d34b3c542207",
   "metadata": {},
   "outputs": [
    {
     "data": {
      "text/plain": [
       "'Motorola Moto G 5G | 2024 | Unlocked | Made for US 4/128GB | 50MP Camera | Sage Green'"
      ]
     },
     "execution_count": 26,
     "metadata": {},
     "output_type": "execute_result"
    }
   ],
   "source": [
    "# Product Name\n",
    "new_soup.find(\"span\", attrs = {\"id\": 'productTitle'}).text.strip()"
   ]
  },
  {
   "cell_type": "code",
   "execution_count": null,
   "id": "077bb350-b84e-4b83-85e9-a257b213e0eb",
   "metadata": {},
   "outputs": [],
   "source": [
    "new_soup = BeautifulSoup(new_webpage.content,\"html.parser\") # html code for 1 product\n",
    "print(new_soup) # give proper html code for 1 product"
   ]
  },
  {
   "cell_type": "code",
   "execution_count": 27,
   "id": "a9507c54-0ce2-443e-8f2d-11015bd2dbfc",
   "metadata": {},
   "outputs": [
    {
     "data": {
      "text/plain": [
       "'$139.99'"
      ]
     },
     "execution_count": 27,
     "metadata": {},
     "output_type": "execute_result"
    }
   ],
   "source": [
    "# Product Price\n",
    "new_soup.find(\"span\", attrs = {\"class\": 'a-offscreen'}).get_text().strip()"
   ]
  },
  {
   "cell_type": "code",
   "execution_count": 30,
   "id": "904357e7-6e28-4f09-9ef2-62f87feae9e9",
   "metadata": {},
   "outputs": [
    {
     "data": {
      "text/plain": [
       "'4.2 out of 5 stars'"
      ]
     },
     "execution_count": 30,
     "metadata": {},
     "output_type": "execute_result"
    }
   ],
   "source": [
    "# Product Rating\n",
    "new_soup.find(\"span\", {\"class\": \"a-icon-alt\"}).get_text().strip()"
   ]
  },
  {
   "cell_type": "code",
   "execution_count": 31,
   "id": "da364685-7d14-4b2d-9733-5200913b99f8",
   "metadata": {},
   "outputs": [
    {
     "data": {
      "text/plain": [
       "'2,951 ratings'"
      ]
     },
     "execution_count": 31,
     "metadata": {},
     "output_type": "execute_result"
    }
   ],
   "source": [
    "# Product Review\n",
    "new_soup.find(\"span\", {\"id\": \"acrCustomerReviewText\"}).get_text().strip()"
   ]
  },
  {
   "cell_type": "code",
   "execution_count": 32,
   "id": "4ac83ad2-1721-4b38-9244-6368b7dcf972",
   "metadata": {},
   "outputs": [
    {
     "data": {
      "text/plain": [
       "'In Stock'"
      ]
     },
     "execution_count": 32,
     "metadata": {},
     "output_type": "execute_result"
    }
   ],
   "source": [
    "# Product Availability\n",
    "new_soup.find(\"div\", {\"id\": \"availability\"}).get_text().strip()"
   ]
  },
  {
   "cell_type": "code",
   "execution_count": 33,
   "id": "d0920c43-4a73-44b6-a9ee-a0ee59f9a973",
   "metadata": {},
   "outputs": [
    {
     "data": {
      "text/plain": [
       "'Visit the Motorola Store'"
      ]
     },
     "execution_count": 33,
     "metadata": {},
     "output_type": "execute_result"
    }
   ],
   "source": [
    "# Product Brand\n",
    "new_soup.find(\"a\", {\"id\": \"bylineInfo\"}).get_text().strip()"
   ]
  },
  {
   "cell_type": "code",
   "execution_count": 36,
   "id": "767f6585-8ec0-4096-9c8a-c0cf254eacbe",
   "metadata": {},
   "outputs": [
    {
     "data": {
      "text/plain": [
       "'Immersive 120Hz display* and Dolby Atmos: Watch movies and play games on a fast, fluid 6.6\" display backed by multidimensional stereo sound. | 50MP Quad Pixel camera system**: Capture sharper photos day or night with 4x the light sensitivity—and explore up close using the Macro Vision lens. | Superfast 5G performance***: Unleash your entertainment at 5G speed with the Snapdragon 4 Gen 1 octa-core processor. | Massive battery and speedy charging: Work and play nonstop with a long-lasting 5000mAh battery, then fuel up fast with TurboPower.**** | Premium design within reach: Stand out with a stunning look and comfortable feel, including a vegan leather back cover that’s soft to the touch and fingerprint resistant. | Tons of built-in ultrafast storage: Get plenty of room for photos, movies, songs, and apps—and add up to 1TB with a microSD card***** | *A minimum device refresh rate of 60Hz and a maximum refresh rate of 120Hz; actual refresh rate may be less and will vary based on app/content limitations and requirements, device mode settings, and other factors. | **The 50MP sensor combines 4 pixels into 1, for an effective photo resolution of 12.5MP. | ***5G service available with 5G plan. 5G network coverage required; available only in select areas; device not compatible with all 5G networks. Contact your service provider for details. Qualcomm Snapdragon is a product of Qualcomm Technologies, Inc. and/or its subsidiaries. Qualcomm and Snapdragon are trademarks of Qualcomm Incorporated, registered in the United States and other countries. | ****Charger may be sold separately. Maximum 18W TurboPower charging speed on device. In-box charger varies by market. Check with your carrier or retailer for availability. *****Supports up to 1T microSD card, microSD cards sold separately. Content with DRM restrictions may not be able to be moved to the card.'"
      ]
     },
     "execution_count": 36,
     "metadata": {},
     "output_type": "execute_result"
    }
   ],
   "source": [
    "# Product Description\n",
    "bullets = new_soup.find(\"div\", {\"id\": \"feature-bullets\"}).find_all(\"span\", class_=\"a-list-item\")\n",
    "\" | \".join([b.get_text().strip() for b in bullets if b.get_text().strip()])"
   ]
  },
  {
   "cell_type": "code",
   "execution_count": 40,
   "id": "441c7d04-fb2c-4deb-a2fc-116b7219c549",
   "metadata": {},
   "outputs": [
    {
     "data": {
      "text/plain": [
       "'Delivery Thursday, September 18. Order within 22 hrs 29 mins'"
      ]
     },
     "execution_count": 40,
     "metadata": {},
     "output_type": "execute_result"
    }
   ],
   "source": [
    "# Product Delivery\n",
    "new_soup.find(\"div\", {\"id\": \"mir-layout-DELIVERY_BLOCK-slot-PRIMARY_DELIVERY_MESSAGE_LARGE\"}).get_text().strip()"
   ]
  },
  {
   "cell_type": "markdown",
   "id": "3b46df93-3e62-47d1-b6bd-f02dc7069fcc",
   "metadata": {},
   "source": [
    "# Function to extract data from amazon web (web scrapping)"
   ]
  },
  {
   "cell_type": "code",
   "execution_count": 42,
   "id": "16ba653a-54ed-4386-94cf-771e80dcc4bc",
   "metadata": {},
   "outputs": [],
   "source": [
    "# Function to extract Product title\n",
    "def get_title(soup):\n",
    "    try:\n",
    "        # outer tag object\n",
    "        title = soup.find(\"span\", attrs = {\"id\": \"productTitle\"})\n",
    "        # inner NavigatableString Object\n",
    "        title_value = title.text\n",
    "        # title as a string value\n",
    "        title_string = title_value.strip()\n",
    "    except AttributeError:\n",
    "        title_string = ''\n",
    "    return title_string\n",
    "\n",
    "# Function to extract Product price\n",
    "def get_price(soup):\n",
    "    try:\n",
    "        # outer tag object\n",
    "        price = soup.find(\"span\", attrs = {\"class\": 'a-offscreen'}).text\n",
    "        \n",
    "    except AttributeError:\n",
    "        try:\n",
    "            price = soup.find(\"span\", attrs = {\"id\": \"priceblock_dealprice\"}).string.strip()\n",
    "        except:\n",
    "            price = ''\n",
    " \n",
    "    return price\n",
    "        \n",
    "# Function to extract Product rating\n",
    "def get_rating(soup):\n",
    "    try:\n",
    "        # outer tag object\n",
    "        rating = soup.find(\"i\", attrs = {\"class\": 'a-icon a-icon-star a-stra-4-5'}).string.strip()\n",
    "        \n",
    "    except AttributeError:\n",
    "        try:\n",
    "            rating = soup.find(\"span\", attrs = {\"class\": 'a-icon-alt'}).string.strip()\n",
    "        except:\n",
    "            rating = ''\n",
    " \n",
    "    return rating\n",
    "\n",
    "# Function to extract Number of User Reviews\n",
    "def get_review(soup):\n",
    "    try:\n",
    "        # outer tag object\n",
    "        review = soup.find(\"span\", attrs = {\"id\": 'acrCustomerReviewText'}).string.strip()\n",
    "        \n",
    "    except AttributeError:\n",
    "            review = ''\n",
    " \n",
    "    return review\n",
    "\n",
    "# Function to extract Availability Status\n",
    "def get_availability(soup):\n",
    "    try:\n",
    "        # outer tag object\n",
    "        available = soup.find(\"div\", attrs = {\"id\": 'availability'})\n",
    "        available = available.find(\"span\").string.strip()\n",
    "        \n",
    "    except AttributeError:\n",
    "           available = 'Not available'\n",
    " \n",
    "    return available\n",
    "\n",
    "# Brand / Manufacturer\n",
    "def get_brand(soup):\n",
    "    try:\n",
    "        return soup.find(\"a\", {\"id\": \"bylineInfo\"}).get_text().strip()\n",
    "    except:\n",
    "        return ''\n",
    "\n",
    "# ASIN\n",
    "def get_asin(soup):\n",
    "    try:\n",
    "        asin = soup.find(\"input\", {\"id\": \"ASIN\"}).get(\"value\")\n",
    "        return asin\n",
    "    except:\n",
    "        return ''\n",
    "\n",
    "# Description / Bullet Points\n",
    "def get_description(soup):\n",
    "    try:\n",
    "        bullets = soup.find(\"div\", {\"id\": \"feature-bullets\"}).find_all(\"span\", class_=\"a-list-item\")\n",
    "        return \" | \".join([b.get_text().strip() for b in bullets if b.get_text().strip()])\n",
    "    except:\n",
    "        return ''\n",
    "\n",
    "# Category / Breadcrumb\n",
    "def get_category(soup):\n",
    "    try:\n",
    "        return soup.find(\"div\", {\"id\": \"wayfinding-breadcrumbs_container\"}).get_text().strip()\n",
    "    except:\n",
    "        return ''\n",
    "\n",
    "# Delivery Info\n",
    "def get_delivery(soup):\n",
    "    try:\n",
    "        return soup.find(\"div\", {\"id\": \"mir-layout-DELIVERY_BLOCK-slot-PRIMARY_DELIVERY_MESSAGE_LARGE\"}).get_text().strip()\n",
    "    except:\n",
    "        return ''\n"
   ]
  },
  {
   "cell_type": "code",
   "execution_count": null,
   "id": "42a2a64f-3588-43a8-b7c3-f32dbd21e438",
   "metadata": {},
   "outputs": [],
   "source": [
    "if __name__ == \"__main__\":\n",
    "\n",
    "    HEADERS = ({\n",
    "        'User-Agent':'Mozilla/5.0 (Windows NT 10.0; Win64; x64) AppleWebKit/537.36 (KHTML, like Gecko) Chrome/139.0.0.0 Safari/537.36',\n",
    "        'Accept-Language':'en-US, en;q=0.5'\n",
    "    })\n",
    "\n",
    "    keywords = [\"phone\", \"laptop\", \"shirt\", \"notebook\", \"toy\", \"headphones\", \"watch\", \"bag\", \"pen\", \"football\"]\n",
    "    \n",
    "\n",
    "    d = {\n",
    "        \"title\":[], \"price\":[], \"rating\":[], \"review\":[], \"availability\":[],\n",
    "        \"brand\":[], \"asin\":[], \"description\":[], \"category\":[], \"delivery\":[]\n",
    "    }\n",
    "\n",
    "    for keyword in keywords:\n",
    "        for page in range(1, 6):   # 5 pages per keyword\n",
    "            URL = f\"https://www.amazon.com/s?k={keyword}&page={page}\"\n",
    "            print(f\"Scraping {keyword} - page {page}\")\n",
    "\n",
    "            try:    \n",
    "                webpage = requests.get(URL, headers=HEADERS, timeout=10)\n",
    "                soup = BeautifulSoup(webpage.content, \"html.parser\")\n",
    "\n",
    "                links = soup.select(\"a.a-link-normal.s-no-outline\")\n",
    "                links_list = [link.get('href') for link in links if link.get('href')]\n",
    "\n",
    "                for link in links_list:\n",
    "                    try:\n",
    "                        new_webpage = requests.get(\"https://www.amazon.com\" + link, headers=HEADERS, timeout=10)\n",
    "                        new_soup = BeautifulSoup(new_webpage.content, \"html.parser\")\n",
    "\n",
    "                        d['title'].append(get_title(new_soup))\n",
    "                        d['price'].append(get_price(new_soup))\n",
    "                        d['rating'].append(get_rating(new_soup))\n",
    "                        d['review'].append(get_review(new_soup))\n",
    "                        d['availability'].append(get_availability(new_soup))\n",
    "                        d['brand'].append(get_brand(new_soup))\n",
    "                        d['asin'].append(get_asin(new_soup))\n",
    "                        d['description'].append(get_description(new_soup))\n",
    "                        d['category'].append(get_category(new_soup))\n",
    "                        d['delivery'].append(get_delivery(new_soup))\n",
    "\n",
    "                        time.sleep(2)  # polite delay\n",
    "                    except Exception as e:\n",
    "                        print(\"Inner Error:\", e)\n",
    "                        continue\n",
    "\n",
    "            except Exception as e:\n",
    "                print(\"Page Error:\", e)\n",
    "                continue\n",
    "\n",
    "    amazon_df = pd.DataFrame.from_dict(d)\n",
    "    amazon_df['title'] = amazon_df['title'].replace('', np.nan)\n",
    "    amazon_df = amazon_df.dropna(subset=['title'], how='all')\n",
    "\n",
    "    print(\"Total rows scraped:\", len(amazon_df))\n",
    "\n",
    "    output_file_path = \"C:/Users/PUNEET/Desktop/Datasets-main/web_amazon_data.csv\"\n",
    "    amazon_df.to_csv(output_file_path, header=True, index=False)\n",
    "    print(f\"Data saved at: {output_file_path}\")\n"
   ]
  },
  {
   "cell_type": "code",
   "execution_count": 45,
   "id": "293f3fb2-a4cb-41d4-bcbe-c6809a4c6cb5",
   "metadata": {},
   "outputs": [
    {
     "data": {
      "text/html": [
       "<div>\n",
       "<style scoped>\n",
       "    .dataframe tbody tr th:only-of-type {\n",
       "        vertical-align: middle;\n",
       "    }\n",
       "\n",
       "    .dataframe tbody tr th {\n",
       "        vertical-align: top;\n",
       "    }\n",
       "\n",
       "    .dataframe thead th {\n",
       "        text-align: right;\n",
       "    }\n",
       "</style>\n",
       "<table border=\"1\" class=\"dataframe\">\n",
       "  <thead>\n",
       "    <tr style=\"text-align: right;\">\n",
       "      <th></th>\n",
       "      <th>title</th>\n",
       "      <th>price</th>\n",
       "      <th>rating</th>\n",
       "      <th>review</th>\n",
       "      <th>availability</th>\n",
       "      <th>brand</th>\n",
       "      <th>asin</th>\n",
       "      <th>description</th>\n",
       "      <th>category</th>\n",
       "      <th>delivery</th>\n",
       "    </tr>\n",
       "  </thead>\n",
       "  <tbody>\n",
       "    <tr>\n",
       "      <th>0</th>\n",
       "      <td>Samsung Galaxy S25 Ultra, 512GB Smartphone, Un...</td>\n",
       "      <td>$1,119.99</td>\n",
       "      <td>4.5 out of 5 stars</td>\n",
       "      <td>2,246 ratings</td>\n",
       "      <td>In Stock</td>\n",
       "      <td>Visit the Samsung Store</td>\n",
       "      <td>B0DP3G4GVQ</td>\n",
       "      <td>MULTIPLE TASKS WITH ONE ASK: Streamline your d...</td>\n",
       "      <td></td>\n",
       "      <td></td>\n",
       "    </tr>\n",
       "    <tr>\n",
       "      <th>1</th>\n",
       "      <td>Apple iPhone 12, 64GB, Black - Fully Unlocked ...</td>\n",
       "      <td>$249.99</td>\n",
       "      <td>4.0 out of 5 stars</td>\n",
       "      <td>31,637 ratings</td>\n",
       "      <td>Not available</td>\n",
       "      <td>Visit the Amazon Renewed Store</td>\n",
       "      <td>B08PP5MSVB</td>\n",
       "      <td>Fully unlocked and compatible with any carrier...</td>\n",
       "      <td></td>\n",
       "      <td></td>\n",
       "    </tr>\n",
       "    <tr>\n",
       "      <th>2</th>\n",
       "      <td>Nothing Phone (3) Cell Phone, 2025 New 5G Unlo...</td>\n",
       "      <td>$799.00</td>\n",
       "      <td>4.6 out of 5 stars</td>\n",
       "      <td>13 ratings</td>\n",
       "      <td>In Stock</td>\n",
       "      <td>Visit the Nothing Store</td>\n",
       "      <td>B0F9XZ9KDM</td>\n",
       "      <td>Ultra-high Performance Chipset: This cell phon...</td>\n",
       "      <td></td>\n",
       "      <td>Delivery Thursday, September 18. Order within ...</td>\n",
       "    </tr>\n",
       "    <tr>\n",
       "      <th>3</th>\n",
       "      <td>Samsung Galaxy S25+ Cell Phone, 512GB Smartpho...</td>\n",
       "      <td>$969.99</td>\n",
       "      <td>4.5 out of 5 stars</td>\n",
       "      <td>2,246 ratings</td>\n",
       "      <td>In Stock</td>\n",
       "      <td>Visit the Samsung Store</td>\n",
       "      <td>B0DP3GFL6D</td>\n",
       "      <td>MULTIPLE TASKS WITH ONE ASK: Streamline your d...</td>\n",
       "      <td></td>\n",
       "      <td></td>\n",
       "    </tr>\n",
       "    <tr>\n",
       "      <th>4</th>\n",
       "      <td>OnePlus 13, 16GB RAM + 512GB Storage, Dual-SIM...</td>\n",
       "      <td>$849.99</td>\n",
       "      <td>4.6 out of 5 stars</td>\n",
       "      <td>113 ratings</td>\n",
       "      <td>In Stock</td>\n",
       "      <td>Visit the OnePlus Store</td>\n",
       "      <td>B0DP8JXLJV</td>\n",
       "      <td>Lightning-Fast Snapdragon 8 Elite Processor: P...</td>\n",
       "      <td></td>\n",
       "      <td></td>\n",
       "    </tr>\n",
       "  </tbody>\n",
       "</table>\n",
       "</div>"
      ],
      "text/plain": [
       "                                               title      price  \\\n",
       "0  Samsung Galaxy S25 Ultra, 512GB Smartphone, Un...  $1,119.99   \n",
       "1  Apple iPhone 12, 64GB, Black - Fully Unlocked ...    $249.99   \n",
       "2  Nothing Phone (3) Cell Phone, 2025 New 5G Unlo...    $799.00   \n",
       "3  Samsung Galaxy S25+ Cell Phone, 512GB Smartpho...    $969.99   \n",
       "4  OnePlus 13, 16GB RAM + 512GB Storage, Dual-SIM...    $849.99   \n",
       "\n",
       "               rating          review   availability  \\\n",
       "0  4.5 out of 5 stars   2,246 ratings       In Stock   \n",
       "1  4.0 out of 5 stars  31,637 ratings  Not available   \n",
       "2  4.6 out of 5 stars      13 ratings       In Stock   \n",
       "3  4.5 out of 5 stars   2,246 ratings       In Stock   \n",
       "4  4.6 out of 5 stars     113 ratings       In Stock   \n",
       "\n",
       "                            brand        asin  \\\n",
       "0         Visit the Samsung Store  B0DP3G4GVQ   \n",
       "1  Visit the Amazon Renewed Store  B08PP5MSVB   \n",
       "2         Visit the Nothing Store  B0F9XZ9KDM   \n",
       "3         Visit the Samsung Store  B0DP3GFL6D   \n",
       "4         Visit the OnePlus Store  B0DP8JXLJV   \n",
       "\n",
       "                                         description category  \\\n",
       "0  MULTIPLE TASKS WITH ONE ASK: Streamline your d...            \n",
       "1  Fully unlocked and compatible with any carrier...            \n",
       "2  Ultra-high Performance Chipset: This cell phon...            \n",
       "3  MULTIPLE TASKS WITH ONE ASK: Streamline your d...            \n",
       "4  Lightning-Fast Snapdragon 8 Elite Processor: P...            \n",
       "\n",
       "                                            delivery  \n",
       "0                                                     \n",
       "1                                                     \n",
       "2  Delivery Thursday, September 18. Order within ...  \n",
       "3                                                     \n",
       "4                                                     "
      ]
     },
     "execution_count": 45,
     "metadata": {},
     "output_type": "execute_result"
    }
   ],
   "source": [
    "amazon_df.head()"
   ]
  },
  {
   "cell_type": "code",
   "execution_count": null,
   "id": "d172b63e-957a-4810-bb96-972838101df3",
   "metadata": {},
   "outputs": [],
   "source": []
  }
 ],
 "metadata": {
  "kernelspec": {
   "display_name": "Python 3 (ipykernel)",
   "language": "python",
   "name": "python3"
  },
  "language_info": {
   "codemirror_mode": {
    "name": "ipython",
    "version": 3
   },
   "file_extension": ".py",
   "mimetype": "text/x-python",
   "name": "python",
   "nbconvert_exporter": "python",
   "pygments_lexer": "ipython3",
   "version": "3.13.2"
  }
 },
 "nbformat": 4,
 "nbformat_minor": 5
}
